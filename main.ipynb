{
 "cells": [
  {
   "cell_type": "code",
   "execution_count": 28,
   "metadata": {},
   "outputs": [],
   "source": [
    "import pandas as pd\n",
    "import seaborn as sn\n",
    "from sqlalchemy import create_engine\n",
    "from config import pwd\n",
    "from config import mydb\n",
    "from config import user"
   ]
  },
  {
   "cell_type": "code",
   "execution_count": 29,
   "metadata": {},
   "outputs": [],
   "source": [
    "engine = create_engine('postgresql://' + user + ':' + pwd + '@localhost:5432/' + mydb)\n",
    "connection = engine.connect()"
   ]
  },
  {
   "cell_type": "code",
   "execution_count": 30,
   "metadata": {},
   "outputs": [],
   "source": [
    "df = pd.read_sql('SELECT * FROM salaries',connection)"
   ]
  },
  {
   "cell_type": "code",
   "execution_count": 32,
   "metadata": {},
   "outputs": [
    {
     "data": {
      "text/plain": [
       "<matplotlib.axes._subplots.AxesSubplot at 0x20e01754b48>"
      ]
     },
     "execution_count": 32,
     "metadata": {},
     "output_type": "execute_result"
    },
    {
     "data": {
      "image/png": "[encoded data removed]",
      "text/plain": [
       "<Figure size 432x288 with 1 Axes>"
      ]
     },
     "metadata": {
      "needs_background": "light"
     },
     "output_type": "display_data"
    }
   ],
   "source": [
    "df['salary'].hist(bins=10)"
   ]
  },
  {
   "cell_type": "code",
   "execution_count": 40,
   "metadata": {},
   "outputs": [
    {
     "data": {
      "text/html": [
       "<div>\n",
       "<style scoped>\n",
       "    .dataframe tbody tr th:only-of-type {\n",
       "        vertical-align: middle;\n",
       "    }\n",
       "\n",
       "    .dataframe tbody tr th {\n",
       "        vertical-align: top;\n",
       "    }\n",
       "\n",
       "    .dataframe thead th {\n",
       "        text-align: right;\n",
       "    }\n",
       "</style>\n",
       "<table border=\"1\" class=\"dataframe\">\n",
       "  <thead>\n",
       "    <tr style=\"text-align: right;\">\n",
       "      <th></th>\n",
       "      <th>row</th>\n",
       "    </tr>\n",
       "  </thead>\n",
       "  <tbody>\n",
       "    <tr>\n",
       "      <td>0</td>\n",
       "      <td>(\"Assistant Engineer\",48493.20)</td>\n",
       "    </tr>\n",
       "    <tr>\n",
       "      <td>1</td>\n",
       "      <td>(Engineer,48539.78)</td>\n",
       "    </tr>\n",
       "    <tr>\n",
       "      <td>2</td>\n",
       "      <td>(Manager,51531.04)</td>\n",
       "    </tr>\n",
       "    <tr>\n",
       "      <td>3</td>\n",
       "      <td>(\"Senior Engineer\",48506.75)</td>\n",
       "    </tr>\n",
       "    <tr>\n",
       "      <td>4</td>\n",
       "      <td>(\"Senior Staff\",58503.29)</td>\n",
       "    </tr>\n",
       "    <tr>\n",
       "      <td>5</td>\n",
       "      <td>(Staff,58465.27)</td>\n",
       "    </tr>\n",
       "    <tr>\n",
       "      <td>6</td>\n",
       "      <td>(\"Technique Leader\",48580.51)</td>\n",
       "    </tr>\n",
       "  </tbody>\n",
       "</table>\n",
       "</div>"
      ],
      "text/plain": [
       "                               row\n",
       "0  (\"Assistant Engineer\",48493.20)\n",
       "1              (Engineer,48539.78)\n",
       "2               (Manager,51531.04)\n",
       "3     (\"Senior Engineer\",48506.75)\n",
       "4        (\"Senior Staff\",58503.29)\n",
       "5                 (Staff,58465.27)\n",
       "6    (\"Technique Leader\",48580.51)"
      ]
     },
     "execution_count": 40,
     "metadata": {},
     "output_type": "execute_result"
    }
   ],
   "source": [
    "ndf = pd.DataFrame()\n",
    "\n",
    "query = 'SELECT (t.title, ROUND(AVG(s.salary), 2)) \\\n",
    "FROM salaries s \\\n",
    "INNER JOIN employees e \\\n",
    "ON (s.emp_no = e.emp_no) \\\n",
    "INNER JOIN titles t \\\n",
    "ON (s.emp_no = t.emp_no) \\\n",
    "GROUP BY t.title'\n",
    "\n",
    "ndf = pd.read_sql(query,connection)\n"
   ]
  },
  {
   "cell_type": "code",
   "execution_count": 41,
   "metadata": {},
   "outputs": [],
   "source": [
    "query = 'SELECT t.title \\\n",
    "FROM salaries s \\\n",
    "INNER JOIN employees e \\\n",
    "ON (s.emp_no = e.emp_no) \\\n",
    "INNER JOIN titles t \\\n",
    "ON (s.emp_no = t.emp_no) \\\n",
    "GROUP BY t.title'\n",
    "\n",
    "ndf['Title'] = pd.read_sql(query,connection)"
   ]
  },
  {
   "cell_type": "code",
   "execution_count": 42,
   "metadata": {},
   "outputs": [],
   "source": [
    "query = 'SELECT ROUND(AVG(s.salary), 2) \\\n",
    "FROM salaries s \\\n",
    "INNER JOIN employees e \\\n",
    "ON (s.emp_no = e.emp_no) \\\n",
    "INNER JOIN titles t \\\n",
    "ON (s.emp_no = t.emp_no) \\\n",
    "GROUP BY t.title'\n",
    "\n",
    "ndf['AvgSal'] = pd.read_sql(query,connection)"
   ]
  },
  {
   "cell_type": "code",
   "execution_count": 49,
   "metadata": {},
   "outputs": [
    {
     "data": {
      "text/plain": [
       "[Text(0, 0, 'Assistant Engineer'),\n",
       " Text(0, 0, 'Engineer'),\n",
       " Text(0, 0, 'Manager'),\n",
       " Text(0, 0, 'Senior Engineer'),\n",
       " Text(0, 0, 'Senior Staff'),\n",
       " Text(0, 0, 'Staff'),\n",
       " Text(0, 0, 'Technique Leader')]"
      ]
     },
     "execution_count": 49,
     "metadata": {},
     "output_type": "execute_result"
    },
    {
     "data": {
      "image/png": "[encoded data removed]",
      "text/plain": [
       "<Figure size 432x288 with 1 Axes>"
      ]
     },
     "metadata": {
      "needs_background": "light"
     },
     "output_type": "display_data"
    }
   ],
   "source": [
    "ax = sn.barplot(x=ndf['Title'], y=ndf['AvgSal'])\n",
    "ax.set_xticklabels(ax.get_xticklabels(), rotation=90)"
   ]
  },
  {
   "cell_type": "code",
   "execution_count": null,
   "metadata": {},
   "outputs": [],
   "source": []
  }
 ],
 "metadata": {
  "kernelspec": {
   "display_name": "Python 3",
   "language": "python",
   "name": "python3"
  },
  "language_info": {
   "codemirror_mode": {
    "name": "ipython",
    "version": 3
   },
   "file_extension": ".py",
   "mimetype": "text/x-python",
   "name": "python",
   "nbconvert_exporter": "python",
   "pygments_lexer": "ipython3",
   "version": "3.7.4"
  }
 },
 "nbformat": 4,
 "nbformat_minor": 4
}
